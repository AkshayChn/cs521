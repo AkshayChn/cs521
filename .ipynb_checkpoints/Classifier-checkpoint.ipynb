{
 "cells": [
  {
   "cell_type": "markdown",
   "id": "e2ba2503",
   "metadata": {},
   "source": [
    "# Achieving Fine Grained Control Over Incidence of False-positives and False-negatives in NLP Classification Tasks using Methods Inspired by Game Theory\n",
    "\n",
    "## Akshay Channesh\n",
    "### April 19, 2022\n",
    "\n",
    "Main Reference: Parikh, Prashant. 2019. _Communication and content_. (Topics at the Grammar-Discourse Interface 4). Berlin: Language Science Press. DOI: 10.5281/zenodo.3243924\n",
    "\n",
    "### Contents\n",
    "\n",
    "1. Dataset Preparation\n",
    "2. Data Cleaning\n",
    "3. Creating the Vocabulary\n",
    "\n",
    "4-5. __Naive Classifier__ build and test\n",
    "\n",
    "6-7. __FGC-Classifier__ build and test\n",
    "\n",
    "8. Reducing False Positives\n",
    "9. Reducing False Negatives\n"
   ]
  },
  {
   "cell_type": "markdown",
   "id": "b687f506",
   "metadata": {},
   "source": [
    "# 1. Dataset Preparation\n",
    "\n",
    "First we open the SMS Spam Collection v.1 dataset. The corpus has been collected by [Tiago Agostinho de Almeida](http://www.dt.fee.unicamp.br/~tiago) and [José María Gómez Hidalgo](http://www.esp.uem.es/jmgomez), and can be found [here.](https://archive.ics.uci.edu/ml/datasets/sms+spam+collection#)\n",
    "\n",
    "We need a simple classifier example to illustrate our algorithm. We've chosen the tutorial by KDnuggets titled _Spam Filter in Python: Naive Bayes from Scratch_ for our example. This can be found [here.](https://www.kdnuggets.com/2020/07/spam-filter-python-naive-bayes-scratch.html)"
   ]
  },
  {
   "cell_type": "code",
   "execution_count": 419,
   "id": "c8fa0c2d",
   "metadata": {
    "scrolled": true
   },
   "outputs": [
    {
     "name": "stdout",
     "output_type": "stream",
     "text": [
      "The dataset has 5572 rows and 2 columns.\n"
     ]
    },
    {
     "data": {
      "text/html": [
       "<div>\n",
       "<style scoped>\n",
       "    .dataframe tbody tr th:only-of-type {\n",
       "        vertical-align: middle;\n",
       "    }\n",
       "\n",
       "    .dataframe tbody tr th {\n",
       "        vertical-align: top;\n",
       "    }\n",
       "\n",
       "    .dataframe thead th {\n",
       "        text-align: right;\n",
       "    }\n",
       "</style>\n",
       "<table border=\"1\" class=\"dataframe\">\n",
       "  <thead>\n",
       "    <tr style=\"text-align: right;\">\n",
       "      <th></th>\n",
       "      <th>Label</th>\n",
       "      <th>SMS</th>\n",
       "    </tr>\n",
       "  </thead>\n",
       "  <tbody>\n",
       "    <tr>\n",
       "      <th>0</th>\n",
       "      <td>ham</td>\n",
       "      <td>Go until jurong point, crazy.. Available only ...</td>\n",
       "    </tr>\n",
       "    <tr>\n",
       "      <th>1</th>\n",
       "      <td>ham</td>\n",
       "      <td>Ok lar... Joking wif u oni...</td>\n",
       "    </tr>\n",
       "    <tr>\n",
       "      <th>2</th>\n",
       "      <td>spam</td>\n",
       "      <td>Free entry in 2 a wkly comp to win FA Cup fina...</td>\n",
       "    </tr>\n",
       "    <tr>\n",
       "      <th>3</th>\n",
       "      <td>ham</td>\n",
       "      <td>U dun say so early hor... U c already then say...</td>\n",
       "    </tr>\n",
       "    <tr>\n",
       "      <th>4</th>\n",
       "      <td>ham</td>\n",
       "      <td>Nah I don't think he goes to usf, he lives aro...</td>\n",
       "    </tr>\n",
       "  </tbody>\n",
       "</table>\n",
       "</div>"
      ],
      "text/plain": [
       "  Label                                                SMS\n",
       "0   ham  Go until jurong point, crazy.. Available only ...\n",
       "1   ham                      Ok lar... Joking wif u oni...\n",
       "2  spam  Free entry in 2 a wkly comp to win FA Cup fina...\n",
       "3   ham  U dun say so early hor... U c already then say...\n",
       "4   ham  Nah I don't think he goes to usf, he lives aro..."
      ]
     },
     "execution_count": 419,
     "metadata": {},
     "output_type": "execute_result"
    }
   ],
   "source": [
    "import pandas as pd\n",
    "\n",
    "sms_spam = pd.read_csv('SMSSpamCollection', sep='\\t', header = None, names = [\"Label\", \"SMS\"])\n",
    "\n",
    "print(f\"The dataset has {sms_spam.shape[0]} rows and {sms_spam.shape[1]} columns.\")\n",
    "sms_spam.head()"
   ]
  },
  {
   "cell_type": "code",
   "execution_count": 420,
   "id": "ba26f53a",
   "metadata": {
    "scrolled": true
   },
   "outputs": [
    {
     "data": {
      "text/plain": [
       "ham     0.865937\n",
       "spam    0.134063\n",
       "Name: Label, dtype: float64"
      ]
     },
     "execution_count": 420,
     "metadata": {},
     "output_type": "execute_result"
    }
   ],
   "source": [
    "sms_spam['Label'].value_counts(normalize=True)"
   ]
  },
  {
   "cell_type": "markdown",
   "id": "382ad4d3",
   "metadata": {},
   "source": [
    "We find that the dataset has about $86.6\\%$ of ham texts and $13.4\\%$ of spam texts."
   ]
  },
  {
   "cell_type": "markdown",
   "id": "cb999e28",
   "metadata": {},
   "source": [
    "We only use $3\\%$ of the data for training. This is because the task is very simple and training it with any larger data will result in very little errors made. Since we are more interested in the errors, we'd like to keep the accuracy around $95\\%$ to begin with.\n",
    "\n",
    "Now we randomize the data and prepare the dataset."
   ]
  },
  {
   "cell_type": "code",
   "execution_count": 421,
   "id": "d30bfc66",
   "metadata": {},
   "outputs": [],
   "source": [
    "# Set the % of data to be used for training\n",
    "training_set_size_percentage = 3 / 100\n",
    "\n",
    "# Randomize the dataset\n",
    "data_randomized = sms_spam.sample(frac=1, random_state=1)\n",
    "\n",
    "# Calculate index for split\n",
    "training_test_index = round(len(data_randomized) * training_set_size_percentage)\n",
    "\n",
    "# Split into training and test sets\n",
    "training_set = data_randomized[:training_test_index].reset_index(drop=True)\n",
    "test_set     = data_randomized[training_test_index:].reset_index(drop=True)\n",
    "\n",
    "# Make a copy of the dataset for later tests\n",
    "test_set_untouched = test_set.copy()"
   ]
  },
  {
   "cell_type": "markdown",
   "id": "3c39c6f8",
   "metadata": {},
   "source": [
    "After this we find the dataset has been split in this manner."
   ]
  },
  {
   "cell_type": "code",
   "execution_count": 422,
   "id": "858dcc0d",
   "metadata": {},
   "outputs": [
    {
     "name": "stdout",
     "output_type": "stream",
     "text": [
      "We have 167 for training and 5405 rows for testing.\n"
     ]
    }
   ],
   "source": [
    "print(f\"We have {training_set.shape[0]} for training and {test_set.shape[0]} rows for testing.\")"
   ]
  },
  {
   "cell_type": "markdown",
   "id": "aec2931a",
   "metadata": {},
   "source": [
    "# 2. Data cleaning\n",
    "\n",
    "We remove all the punctuation and make everything lowercase."
   ]
  },
  {
   "cell_type": "code",
   "execution_count": 423,
   "id": "5aca0c87",
   "metadata": {},
   "outputs": [],
   "source": [
    "training_set['SMS'] = training_set['SMS'].str.replace(\n",
    "   '\\W', ' ', regex=True) # Removes punctuation\n",
    "training_set['SMS'] = training_set['SMS'].str.lower()"
   ]
  },
  {
   "cell_type": "markdown",
   "id": "2c1a3899",
   "metadata": {},
   "source": [
    "Now the dataset looks like this."
   ]
  },
  {
   "cell_type": "code",
   "execution_count": 424,
   "id": "fa219a2e",
   "metadata": {},
   "outputs": [
    {
     "data": {
      "text/html": [
       "<div>\n",
       "<style scoped>\n",
       "    .dataframe tbody tr th:only-of-type {\n",
       "        vertical-align: middle;\n",
       "    }\n",
       "\n",
       "    .dataframe tbody tr th {\n",
       "        vertical-align: top;\n",
       "    }\n",
       "\n",
       "    .dataframe thead th {\n",
       "        text-align: right;\n",
       "    }\n",
       "</style>\n",
       "<table border=\"1\" class=\"dataframe\">\n",
       "  <thead>\n",
       "    <tr style=\"text-align: right;\">\n",
       "      <th></th>\n",
       "      <th>Label</th>\n",
       "      <th>SMS</th>\n",
       "    </tr>\n",
       "  </thead>\n",
       "  <tbody>\n",
       "    <tr>\n",
       "      <th>0</th>\n",
       "      <td>ham</td>\n",
       "      <td>yep  by the pretty sculpture</td>\n",
       "    </tr>\n",
       "    <tr>\n",
       "      <th>1</th>\n",
       "      <td>ham</td>\n",
       "      <td>yes  princess  are you going to make me moan</td>\n",
       "    </tr>\n",
       "    <tr>\n",
       "      <th>2</th>\n",
       "      <td>ham</td>\n",
       "      <td>welp apparently he retired</td>\n",
       "    </tr>\n",
       "  </tbody>\n",
       "</table>\n",
       "</div>"
      ],
      "text/plain": [
       "  Label                                            SMS\n",
       "0   ham                   yep  by the pretty sculpture\n",
       "1   ham  yes  princess  are you going to make me moan \n",
       "2   ham                     welp apparently he retired"
      ]
     },
     "execution_count": 424,
     "metadata": {},
     "output_type": "execute_result"
    }
   ],
   "source": [
    "training_set.head(3)"
   ]
  },
  {
   "cell_type": "markdown",
   "id": "f50c5812",
   "metadata": {},
   "source": [
    "# 3. Creating the vocabulary\n",
    "\n",
    "We make a set of all unique words in our data. The `set` data structure removes all duplicates."
   ]
  },
  {
   "cell_type": "code",
   "execution_count": 425,
   "id": "d98aa57c",
   "metadata": {},
   "outputs": [
    {
     "name": "stdout",
     "output_type": "stream",
     "text": [
      "The vocabulary size is 1012.\n"
     ]
    }
   ],
   "source": [
    "training_set['SMS'] = training_set['SMS'].str.split()\n",
    "\n",
    "vocabulary = []\n",
    "for sms in training_set['SMS']:\n",
    "    for word in sms:\n",
    "        vocabulary.append(word)\n",
    "\n",
    "vocabulary = list(set(vocabulary))\n",
    "\n",
    "print(f\"The vocabulary size is {len(vocabulary)}.\")"
   ]
  },
  {
   "cell_type": "markdown",
   "id": "d3d0f9ac",
   "metadata": {},
   "source": [
    "### Counting the word occurances in each row\n",
    "\n",
    "We can now count the words occuring in each of the rows."
   ]
  },
  {
   "cell_type": "code",
   "execution_count": 426,
   "id": "5b27d16b",
   "metadata": {},
   "outputs": [],
   "source": [
    "word_counts_per_sms = {unique_word: [0] * len(training_set['SMS']) for unique_word in vocabulary}\n",
    "\n",
    "for index, sms in enumerate(training_set['SMS']):\n",
    "    for word in sms:\n",
    "        word_counts_per_sms[word][index] += 1\n",
    "\n",
    "word_counts = pd.DataFrame(word_counts_per_sms)"
   ]
  },
  {
   "cell_type": "markdown",
   "id": "73d9a7c7",
   "metadata": {},
   "source": [
    "The `word_counts` data frame is now prepared and looks like this."
   ]
  },
  {
   "cell_type": "code",
   "execution_count": 427,
   "id": "2e656963",
   "metadata": {},
   "outputs": [
    {
     "data": {
      "text/html": [
       "<div>\n",
       "<style scoped>\n",
       "    .dataframe tbody tr th:only-of-type {\n",
       "        vertical-align: middle;\n",
       "    }\n",
       "\n",
       "    .dataframe tbody tr th {\n",
       "        vertical-align: top;\n",
       "    }\n",
       "\n",
       "    .dataframe thead th {\n",
       "        text-align: right;\n",
       "    }\n",
       "</style>\n",
       "<table border=\"1\" class=\"dataframe\">\n",
       "  <thead>\n",
       "    <tr style=\"text-align: right;\">\n",
       "      <th></th>\n",
       "      <th>and</th>\n",
       "      <th>ham</th>\n",
       "      <th>so</th>\n",
       "      <th>means</th>\n",
       "      <th>bored</th>\n",
       "      <th>won</th>\n",
       "      <th>fri</th>\n",
       "      <th>anything</th>\n",
       "      <th>der</th>\n",
       "      <th>course</th>\n",
       "      <th>...</th>\n",
       "      <th>cookies</th>\n",
       "      <th>offer</th>\n",
       "      <th>w111wx</th>\n",
       "      <th>3</th>\n",
       "      <th>little</th>\n",
       "      <th>done</th>\n",
       "      <th>haven</th>\n",
       "      <th>place</th>\n",
       "      <th>money</th>\n",
       "      <th>4</th>\n",
       "    </tr>\n",
       "  </thead>\n",
       "  <tbody>\n",
       "    <tr>\n",
       "      <th>0</th>\n",
       "      <td>0</td>\n",
       "      <td>0</td>\n",
       "      <td>0</td>\n",
       "      <td>0</td>\n",
       "      <td>0</td>\n",
       "      <td>0</td>\n",
       "      <td>0</td>\n",
       "      <td>0</td>\n",
       "      <td>0</td>\n",
       "      <td>0</td>\n",
       "      <td>...</td>\n",
       "      <td>0</td>\n",
       "      <td>0</td>\n",
       "      <td>0</td>\n",
       "      <td>0</td>\n",
       "      <td>0</td>\n",
       "      <td>0</td>\n",
       "      <td>0</td>\n",
       "      <td>0</td>\n",
       "      <td>0</td>\n",
       "      <td>0</td>\n",
       "    </tr>\n",
       "    <tr>\n",
       "      <th>1</th>\n",
       "      <td>0</td>\n",
       "      <td>0</td>\n",
       "      <td>0</td>\n",
       "      <td>0</td>\n",
       "      <td>0</td>\n",
       "      <td>0</td>\n",
       "      <td>0</td>\n",
       "      <td>0</td>\n",
       "      <td>0</td>\n",
       "      <td>0</td>\n",
       "      <td>...</td>\n",
       "      <td>0</td>\n",
       "      <td>0</td>\n",
       "      <td>0</td>\n",
       "      <td>0</td>\n",
       "      <td>0</td>\n",
       "      <td>0</td>\n",
       "      <td>0</td>\n",
       "      <td>0</td>\n",
       "      <td>0</td>\n",
       "      <td>0</td>\n",
       "    </tr>\n",
       "    <tr>\n",
       "      <th>2</th>\n",
       "      <td>0</td>\n",
       "      <td>0</td>\n",
       "      <td>0</td>\n",
       "      <td>0</td>\n",
       "      <td>0</td>\n",
       "      <td>0</td>\n",
       "      <td>0</td>\n",
       "      <td>0</td>\n",
       "      <td>0</td>\n",
       "      <td>0</td>\n",
       "      <td>...</td>\n",
       "      <td>0</td>\n",
       "      <td>0</td>\n",
       "      <td>0</td>\n",
       "      <td>0</td>\n",
       "      <td>0</td>\n",
       "      <td>0</td>\n",
       "      <td>0</td>\n",
       "      <td>0</td>\n",
       "      <td>0</td>\n",
       "      <td>0</td>\n",
       "    </tr>\n",
       "    <tr>\n",
       "      <th>3</th>\n",
       "      <td>0</td>\n",
       "      <td>0</td>\n",
       "      <td>0</td>\n",
       "      <td>0</td>\n",
       "      <td>0</td>\n",
       "      <td>0</td>\n",
       "      <td>0</td>\n",
       "      <td>0</td>\n",
       "      <td>0</td>\n",
       "      <td>0</td>\n",
       "      <td>...</td>\n",
       "      <td>0</td>\n",
       "      <td>0</td>\n",
       "      <td>0</td>\n",
       "      <td>0</td>\n",
       "      <td>0</td>\n",
       "      <td>0</td>\n",
       "      <td>0</td>\n",
       "      <td>0</td>\n",
       "      <td>0</td>\n",
       "      <td>0</td>\n",
       "    </tr>\n",
       "    <tr>\n",
       "      <th>4</th>\n",
       "      <td>0</td>\n",
       "      <td>0</td>\n",
       "      <td>0</td>\n",
       "      <td>0</td>\n",
       "      <td>0</td>\n",
       "      <td>0</td>\n",
       "      <td>0</td>\n",
       "      <td>0</td>\n",
       "      <td>0</td>\n",
       "      <td>0</td>\n",
       "      <td>...</td>\n",
       "      <td>0</td>\n",
       "      <td>0</td>\n",
       "      <td>0</td>\n",
       "      <td>0</td>\n",
       "      <td>0</td>\n",
       "      <td>0</td>\n",
       "      <td>0</td>\n",
       "      <td>0</td>\n",
       "      <td>0</td>\n",
       "      <td>0</td>\n",
       "    </tr>\n",
       "  </tbody>\n",
       "</table>\n",
       "<p>5 rows × 1012 columns</p>\n",
       "</div>"
      ],
      "text/plain": [
       "   and  ham  so  means  bored  won  fri  anything  der  course  ...  cookies  \\\n",
       "0    0    0   0      0      0    0    0         0    0       0  ...        0   \n",
       "1    0    0   0      0      0    0    0         0    0       0  ...        0   \n",
       "2    0    0   0      0      0    0    0         0    0       0  ...        0   \n",
       "3    0    0   0      0      0    0    0         0    0       0  ...        0   \n",
       "4    0    0   0      0      0    0    0         0    0       0  ...        0   \n",
       "\n",
       "   offer  w111wx  3  little  done  haven  place  money  4  \n",
       "0      0       0  0       0     0      0      0      0  0  \n",
       "1      0       0  0       0     0      0      0      0  0  \n",
       "2      0       0  0       0     0      0      0      0  0  \n",
       "3      0       0  0       0     0      0      0      0  0  \n",
       "4      0       0  0       0     0      0      0      0  0  \n",
       "\n",
       "[5 rows x 1012 columns]"
      ]
     },
     "execution_count": 427,
     "metadata": {},
     "output_type": "execute_result"
    }
   ],
   "source": [
    "word_counts.head()"
   ]
  },
  {
   "cell_type": "markdown",
   "id": "a2e5f1bb",
   "metadata": {},
   "source": [
    "We concat this `word_count` frame with the `training_set` to get our final cleaned set of data."
   ]
  },
  {
   "cell_type": "code",
   "execution_count": 428,
   "id": "f0ab8d07",
   "metadata": {
    "scrolled": true
   },
   "outputs": [
    {
     "data": {
      "text/html": [
       "<div>\n",
       "<style scoped>\n",
       "    .dataframe tbody tr th:only-of-type {\n",
       "        vertical-align: middle;\n",
       "    }\n",
       "\n",
       "    .dataframe tbody tr th {\n",
       "        vertical-align: top;\n",
       "    }\n",
       "\n",
       "    .dataframe thead th {\n",
       "        text-align: right;\n",
       "    }\n",
       "</style>\n",
       "<table border=\"1\" class=\"dataframe\">\n",
       "  <thead>\n",
       "    <tr style=\"text-align: right;\">\n",
       "      <th></th>\n",
       "      <th>Label</th>\n",
       "      <th>SMS</th>\n",
       "      <th>and</th>\n",
       "      <th>ham</th>\n",
       "      <th>so</th>\n",
       "      <th>means</th>\n",
       "      <th>bored</th>\n",
       "      <th>won</th>\n",
       "      <th>fri</th>\n",
       "      <th>anything</th>\n",
       "      <th>...</th>\n",
       "      <th>cookies</th>\n",
       "      <th>offer</th>\n",
       "      <th>w111wx</th>\n",
       "      <th>3</th>\n",
       "      <th>little</th>\n",
       "      <th>done</th>\n",
       "      <th>haven</th>\n",
       "      <th>place</th>\n",
       "      <th>money</th>\n",
       "      <th>4</th>\n",
       "    </tr>\n",
       "  </thead>\n",
       "  <tbody>\n",
       "    <tr>\n",
       "      <th>0</th>\n",
       "      <td>ham</td>\n",
       "      <td>[yep, by, the, pretty, sculpture]</td>\n",
       "      <td>0</td>\n",
       "      <td>0</td>\n",
       "      <td>0</td>\n",
       "      <td>0</td>\n",
       "      <td>0</td>\n",
       "      <td>0</td>\n",
       "      <td>0</td>\n",
       "      <td>0</td>\n",
       "      <td>...</td>\n",
       "      <td>0</td>\n",
       "      <td>0</td>\n",
       "      <td>0</td>\n",
       "      <td>0</td>\n",
       "      <td>0</td>\n",
       "      <td>0</td>\n",
       "      <td>0</td>\n",
       "      <td>0</td>\n",
       "      <td>0</td>\n",
       "      <td>0</td>\n",
       "    </tr>\n",
       "    <tr>\n",
       "      <th>1</th>\n",
       "      <td>ham</td>\n",
       "      <td>[yes, princess, are, you, going, to, make, me,...</td>\n",
       "      <td>0</td>\n",
       "      <td>0</td>\n",
       "      <td>0</td>\n",
       "      <td>0</td>\n",
       "      <td>0</td>\n",
       "      <td>0</td>\n",
       "      <td>0</td>\n",
       "      <td>0</td>\n",
       "      <td>...</td>\n",
       "      <td>0</td>\n",
       "      <td>0</td>\n",
       "      <td>0</td>\n",
       "      <td>0</td>\n",
       "      <td>0</td>\n",
       "      <td>0</td>\n",
       "      <td>0</td>\n",
       "      <td>0</td>\n",
       "      <td>0</td>\n",
       "      <td>0</td>\n",
       "    </tr>\n",
       "    <tr>\n",
       "      <th>2</th>\n",
       "      <td>ham</td>\n",
       "      <td>[welp, apparently, he, retired]</td>\n",
       "      <td>0</td>\n",
       "      <td>0</td>\n",
       "      <td>0</td>\n",
       "      <td>0</td>\n",
       "      <td>0</td>\n",
       "      <td>0</td>\n",
       "      <td>0</td>\n",
       "      <td>0</td>\n",
       "      <td>...</td>\n",
       "      <td>0</td>\n",
       "      <td>0</td>\n",
       "      <td>0</td>\n",
       "      <td>0</td>\n",
       "      <td>0</td>\n",
       "      <td>0</td>\n",
       "      <td>0</td>\n",
       "      <td>0</td>\n",
       "      <td>0</td>\n",
       "      <td>0</td>\n",
       "    </tr>\n",
       "    <tr>\n",
       "      <th>3</th>\n",
       "      <td>ham</td>\n",
       "      <td>[havent]</td>\n",
       "      <td>0</td>\n",
       "      <td>0</td>\n",
       "      <td>0</td>\n",
       "      <td>0</td>\n",
       "      <td>0</td>\n",
       "      <td>0</td>\n",
       "      <td>0</td>\n",
       "      <td>0</td>\n",
       "      <td>...</td>\n",
       "      <td>0</td>\n",
       "      <td>0</td>\n",
       "      <td>0</td>\n",
       "      <td>0</td>\n",
       "      <td>0</td>\n",
       "      <td>0</td>\n",
       "      <td>0</td>\n",
       "      <td>0</td>\n",
       "      <td>0</td>\n",
       "      <td>0</td>\n",
       "    </tr>\n",
       "    <tr>\n",
       "      <th>4</th>\n",
       "      <td>ham</td>\n",
       "      <td>[i, forgot, 2, ask, ü, all, smth, there, s, a,...</td>\n",
       "      <td>0</td>\n",
       "      <td>0</td>\n",
       "      <td>0</td>\n",
       "      <td>0</td>\n",
       "      <td>0</td>\n",
       "      <td>0</td>\n",
       "      <td>0</td>\n",
       "      <td>0</td>\n",
       "      <td>...</td>\n",
       "      <td>0</td>\n",
       "      <td>0</td>\n",
       "      <td>0</td>\n",
       "      <td>0</td>\n",
       "      <td>0</td>\n",
       "      <td>0</td>\n",
       "      <td>0</td>\n",
       "      <td>0</td>\n",
       "      <td>0</td>\n",
       "      <td>0</td>\n",
       "    </tr>\n",
       "  </tbody>\n",
       "</table>\n",
       "<p>5 rows × 1014 columns</p>\n",
       "</div>"
      ],
      "text/plain": [
       "  Label                                                SMS  and  ham  so  \\\n",
       "0   ham                  [yep, by, the, pretty, sculpture]    0    0   0   \n",
       "1   ham  [yes, princess, are, you, going, to, make, me,...    0    0   0   \n",
       "2   ham                    [welp, apparently, he, retired]    0    0   0   \n",
       "3   ham                                           [havent]    0    0   0   \n",
       "4   ham  [i, forgot, 2, ask, ü, all, smth, there, s, a,...    0    0   0   \n",
       "\n",
       "   means  bored  won  fri  anything  ...  cookies  offer  w111wx  3  little  \\\n",
       "0      0      0    0    0         0  ...        0      0       0  0       0   \n",
       "1      0      0    0    0         0  ...        0      0       0  0       0   \n",
       "2      0      0    0    0         0  ...        0      0       0  0       0   \n",
       "3      0      0    0    0         0  ...        0      0       0  0       0   \n",
       "4      0      0    0    0         0  ...        0      0       0  0       0   \n",
       "\n",
       "   done  haven  place  money  4  \n",
       "0     0      0      0      0  0  \n",
       "1     0      0      0      0  0  \n",
       "2     0      0      0      0  0  \n",
       "3     0      0      0      0  0  \n",
       "4     0      0      0      0  0  \n",
       "\n",
       "[5 rows x 1014 columns]"
      ]
     },
     "execution_count": 428,
     "metadata": {},
     "output_type": "execute_result"
    }
   ],
   "source": [
    "training_set_clean = pd.concat([training_set, word_counts], axis=1)\n",
    "training_set_clean.head()"
   ]
  },
  {
   "cell_type": "markdown",
   "id": "f371feb9",
   "metadata": {},
   "source": [
    "# 4-5. Naive Classifier\n",
    "\n",
    "We now build a Naive-Bayes classifier to classify the SMS texts.\n",
    "\n",
    "## Build\n",
    "\n",
    "We use Laplace smoothing with $\\alpha$ = 1"
   ]
  },
  {
   "cell_type": "code",
   "execution_count": 429,
   "id": "176c45d9",
   "metadata": {},
   "outputs": [],
   "source": [
    "# Isolating spam and ham messages first\n",
    "spam_messages = training_set_clean[training_set_clean['Label'] == 'spam']\n",
    "ham_messages  = training_set_clean[training_set_clean['Label'] == 'ham']\n",
    "\n",
    "# P(Spam) and P(Ham)\n",
    "p_spam = len(spam_messages) / len(training_set_clean)\n",
    "p_ham  = len(ham_messages)  / len(training_set_clean)\n",
    "\n",
    "# N_Spam\n",
    "n_words_per_spam_message = spam_messages['SMS'].apply(len)\n",
    "n_spam = n_words_per_spam_message.sum()\n",
    "\n",
    "# N_Ham\n",
    "n_words_per_ham_message = ham_messages['SMS'].apply(len)\n",
    "n_ham = n_words_per_ham_message.sum()\n",
    "\n",
    "# N_Vocabulary\n",
    "n_vocabulary = len(vocabulary)\n",
    "\n",
    "# Laplace smoothing\n",
    "alpha = 1"
   ]
  },
  {
   "cell_type": "markdown",
   "id": "5840d5d9",
   "metadata": {},
   "source": [
    "### Calculating the Parameters"
   ]
  },
  {
   "cell_type": "code",
   "execution_count": 430,
   "id": "b784d8cf",
   "metadata": {},
   "outputs": [],
   "source": [
    "# Initiate parameters\n",
    "parameters_spam = {unique_word:0 for unique_word in vocabulary}\n",
    "parameters_ham = {unique_word:0 for unique_word in vocabulary}\n",
    "\n",
    "# Calculate parameters\n",
    "for word in vocabulary:\n",
    "    n_word_given_spam = spam_messages[word].sum() # spam_messages already defined\n",
    "    p_word_given_spam = (n_word_given_spam + alpha) / (n_spam + alpha*n_vocabulary)\n",
    "    parameters_spam[word] = p_word_given_spam\n",
    "\n",
    "    n_word_given_ham = ham_messages[word].sum() # ham_messages already defined\n",
    "    p_word_given_ham = (n_word_given_ham + alpha) / (n_ham + alpha*n_vocabulary)\n",
    "    parameters_ham[word] = p_word_given_ham"
   ]
  },
  {
   "cell_type": "markdown",
   "id": "afae6f63",
   "metadata": {},
   "source": [
    "### The Naive Classifier Function"
   ]
  },
  {
   "cell_type": "code",
   "execution_count": 431,
   "id": "31a07b48",
   "metadata": {},
   "outputs": [],
   "source": [
    "import re\n",
    "\n",
    "def classify(message):\n",
    "    \n",
    "    # Input is a string.\n",
    "    # Cleaning. Removing punctuations and\n",
    "    # converting to lower case.\n",
    "    message = re.sub('\\W', ' ', message)\n",
    "    message = message.lower().split()\n",
    "\n",
    "    p_spam_given_message = p_spam\n",
    "    p_ham_given_message = p_ham\n",
    "\n",
    "    for word in message:\n",
    "        if word in parameters_spam:\n",
    "            p_spam_given_message *= parameters_spam[word]\n",
    "\n",
    "        if word in parameters_ham: \n",
    "            p_ham_given_message *= parameters_ham[word]\n",
    "    \n",
    "    p_h = p_ham_given_message / (p_spam_given_message + p_ham_given_message)\n",
    "    p_s = p_spam_given_message / (p_spam_given_message + p_ham_given_message)\n",
    "    \n",
    "    # Return the normalized probabilites of being spam and ham \n",
    "    return p_s, p_h  "
   ]
  },
  {
   "cell_type": "markdown",
   "id": "5cfac6b7",
   "metadata": {},
   "source": [
    "## Testing the classifier"
   ]
  },
  {
   "cell_type": "code",
   "execution_count": 432,
   "id": "d79d605f",
   "metadata": {},
   "outputs": [],
   "source": [
    "def classify_test_set(message):\n",
    "    \n",
    "    p_spam_given_message, p_ham_given_message = classify(message)\n",
    "    \n",
    "    \n",
    "    if p_ham_given_message > p_spam_given_message:\n",
    "        return 'ham'\n",
    "    elif p_spam_given_message > p_ham_given_message:\n",
    "        return 'spam'\n",
    "    else:\n",
    "        return 'needs human classification'"
   ]
  },
  {
   "cell_type": "code",
   "execution_count": 433,
   "id": "79d876fd",
   "metadata": {
    "scrolled": true
   },
   "outputs": [
    {
     "data": {
      "text/html": [
       "<div>\n",
       "<style scoped>\n",
       "    .dataframe tbody tr th:only-of-type {\n",
       "        vertical-align: middle;\n",
       "    }\n",
       "\n",
       "    .dataframe tbody tr th {\n",
       "        vertical-align: top;\n",
       "    }\n",
       "\n",
       "    .dataframe thead th {\n",
       "        text-align: right;\n",
       "    }\n",
       "</style>\n",
       "<table border=\"1\" class=\"dataframe\">\n",
       "  <thead>\n",
       "    <tr style=\"text-align: right;\">\n",
       "      <th></th>\n",
       "      <th>Label</th>\n",
       "      <th>SMS</th>\n",
       "      <th>predicted</th>\n",
       "    </tr>\n",
       "  </thead>\n",
       "  <tbody>\n",
       "    <tr>\n",
       "      <th>0</th>\n",
       "      <td>ham</td>\n",
       "      <td>My Parents, My Kidz, My Friends n My Colleague...</td>\n",
       "      <td>ham</td>\n",
       "    </tr>\n",
       "    <tr>\n",
       "      <th>1</th>\n",
       "      <td>ham</td>\n",
       "      <td>Yeah go on then, bored and depressed sittin wa...</td>\n",
       "      <td>ham</td>\n",
       "    </tr>\n",
       "    <tr>\n",
       "      <th>2</th>\n",
       "      <td>ham</td>\n",
       "      <td>Can you plz tell me the ans. BSLVYL sent via f...</td>\n",
       "      <td>ham</td>\n",
       "    </tr>\n",
       "    <tr>\n",
       "      <th>3</th>\n",
       "      <td>ham</td>\n",
       "      <td>Lol yes. Our friendship is hanging on a thread...</td>\n",
       "      <td>ham</td>\n",
       "    </tr>\n",
       "    <tr>\n",
       "      <th>4</th>\n",
       "      <td>ham</td>\n",
       "      <td>cool. We will have fun practicing making babies!</td>\n",
       "      <td>ham</td>\n",
       "    </tr>\n",
       "  </tbody>\n",
       "</table>\n",
       "</div>"
      ],
      "text/plain": [
       "  Label                                                SMS predicted\n",
       "0   ham  My Parents, My Kidz, My Friends n My Colleague...       ham\n",
       "1   ham  Yeah go on then, bored and depressed sittin wa...       ham\n",
       "2   ham  Can you plz tell me the ans. BSLVYL sent via f...       ham\n",
       "3   ham  Lol yes. Our friendship is hanging on a thread...       ham\n",
       "4   ham   cool. We will have fun practicing making babies!       ham"
      ]
     },
     "execution_count": 433,
     "metadata": {},
     "output_type": "execute_result"
    }
   ],
   "source": [
    "test_set['predicted'] = test_set['SMS'].apply(classify_test_set)\n",
    "test_set.head()"
   ]
  },
  {
   "cell_type": "markdown",
   "id": "aa5b1774",
   "metadata": {},
   "source": [
    "### Calculating Accuracy"
   ]
  },
  {
   "cell_type": "code",
   "execution_count": 434,
   "id": "f9315616",
   "metadata": {
    "scrolled": true
   },
   "outputs": [
    {
     "name": "stdout",
     "output_type": "stream",
     "text": [
      "Correct: 5170\n",
      "Incorrect: 235\n",
      "Accuracy: 0.9565217391304348\n"
     ]
    }
   ],
   "source": [
    "correct = 0\n",
    "total = test_set.shape[0]\n",
    "\n",
    "for row in test_set.iterrows():\n",
    "    row = row[1]\n",
    "    if row['Label'] == row['predicted']:\n",
    "        correct += 1\n",
    "\n",
    "print('Correct:', correct)\n",
    "print('Incorrect:', total - correct)\n",
    "print('Accuracy:', correct/total)"
   ]
  },
  {
   "cell_type": "markdown",
   "id": "17fa1022",
   "metadata": {},
   "source": [
    "Now we calculate the number of false positives and false negatives."
   ]
  },
  {
   "cell_type": "code",
   "execution_count": 435,
   "id": "b53d9967",
   "metadata": {},
   "outputs": [
    {
     "name": "stdout",
     "output_type": "stream",
     "text": [
      "False positives: (when a true ham is falsly flagged as spam) 27\n",
      "False negatives: (when a true Spam is falsly allowed as ham) 207\n"
     ]
    }
   ],
   "source": [
    "f_pos = 0\n",
    "f_neg = 0\n",
    "\n",
    "for row in test_set.iterrows():\n",
    "    row = row[1]\n",
    "    if row['Label'] == \"ham\" and row['predicted'] == \"spam\":\n",
    "        f_pos += 1\n",
    "    if row['Label'] == \"spam\" and row['predicted'] == \"ham\":\n",
    "        f_neg += 1\n",
    "\n",
    "print('False positives: (when a true ham is falsly flagged as spam)', f_pos)  \n",
    "print('False negatives: (when a true Spam is falsly allowed as ham)', f_neg)"
   ]
  },
  {
   "cell_type": "markdown",
   "id": "fc2681e0",
   "metadata": {},
   "source": [
    "# 6-7. FGC-Classifier\n",
    "\n",
    "Now we investigate the same classification when we run it through FGC-Classify algorithm. We try and reduce the false negatives by setting the utilities appropriately.\n",
    "\n",
    "![Image: Classification Game](./images/game.png)"
   ]
  },
  {
   "cell_type": "code",
   "execution_count": 436,
   "id": "0da066e1",
   "metadata": {},
   "outputs": [],
   "source": [
    "# Make a copy of the original test set\n",
    "test_set2 = test_set_untouched.copy()"
   ]
  },
  {
   "cell_type": "markdown",
   "id": "bd93409c",
   "metadata": {},
   "source": [
    "## Building the classifier"
   ]
  },
  {
   "cell_type": "code",
   "execution_count": 437,
   "id": "7f956d06",
   "metadata": {},
   "outputs": [],
   "source": [
    "def fgc_classify_test_set(message, utility):\n",
    "    \n",
    "    p_s, p_h = classify(message)\n",
    "    \n",
    "    # Utilities are (HS, HH, SS, SH) tuple\n",
    "    payoff = utility[0] * p_s, utility[1] * p_h, utility[2] * p_s, utility[3] * p_h\n",
    "        \n",
    "    if max(payoff) == payoff[0] or max(payoff) == payoff[2]:\n",
    "        return 'spam'\n",
    "    elif max(payoff) == payoff[1] or max(payoff) == payoff[3]:\n",
    "        return 'ham'\n",
    "    else:\n",
    "        return 'needs human classification'"
   ]
  },
  {
   "cell_type": "markdown",
   "id": "dcc13aee",
   "metadata": {},
   "source": [
    "## Testing the FGC-Classifier"
   ]
  },
  {
   "cell_type": "markdown",
   "id": "b179d4a8",
   "metadata": {},
   "source": [
    "### New Test Set"
   ]
  },
  {
   "cell_type": "code",
   "execution_count": 438,
   "id": "b964082d",
   "metadata": {},
   "outputs": [
    {
     "data": {
      "text/html": [
       "<div>\n",
       "<style scoped>\n",
       "    .dataframe tbody tr th:only-of-type {\n",
       "        vertical-align: middle;\n",
       "    }\n",
       "\n",
       "    .dataframe tbody tr th {\n",
       "        vertical-align: top;\n",
       "    }\n",
       "\n",
       "    .dataframe thead th {\n",
       "        text-align: right;\n",
       "    }\n",
       "</style>\n",
       "<table border=\"1\" class=\"dataframe\">\n",
       "  <thead>\n",
       "    <tr style=\"text-align: right;\">\n",
       "      <th></th>\n",
       "      <th>Label</th>\n",
       "      <th>SMS</th>\n",
       "      <th>predicted</th>\n",
       "    </tr>\n",
       "  </thead>\n",
       "  <tbody>\n",
       "    <tr>\n",
       "      <th>0</th>\n",
       "      <td>ham</td>\n",
       "      <td>My Parents, My Kidz, My Friends n My Colleague...</td>\n",
       "      <td>ham</td>\n",
       "    </tr>\n",
       "    <tr>\n",
       "      <th>1</th>\n",
       "      <td>ham</td>\n",
       "      <td>Yeah go on then, bored and depressed sittin wa...</td>\n",
       "      <td>ham</td>\n",
       "    </tr>\n",
       "    <tr>\n",
       "      <th>2</th>\n",
       "      <td>ham</td>\n",
       "      <td>Can you plz tell me the ans. BSLVYL sent via f...</td>\n",
       "      <td>ham</td>\n",
       "    </tr>\n",
       "    <tr>\n",
       "      <th>3</th>\n",
       "      <td>ham</td>\n",
       "      <td>Lol yes. Our friendship is hanging on a thread...</td>\n",
       "      <td>ham</td>\n",
       "    </tr>\n",
       "    <tr>\n",
       "      <th>4</th>\n",
       "      <td>ham</td>\n",
       "      <td>cool. We will have fun practicing making babies!</td>\n",
       "      <td>ham</td>\n",
       "    </tr>\n",
       "  </tbody>\n",
       "</table>\n",
       "</div>"
      ],
      "text/plain": [
       "  Label                                                SMS predicted\n",
       "0   ham  My Parents, My Kidz, My Friends n My Colleague...       ham\n",
       "1   ham  Yeah go on then, bored and depressed sittin wa...       ham\n",
       "2   ham  Can you plz tell me the ans. BSLVYL sent via f...       ham\n",
       "3   ham  Lol yes. Our friendship is hanging on a thread...       ham\n",
       "4   ham   cool. We will have fun practicing making babies!       ham"
      ]
     },
     "execution_count": 438,
     "metadata": {},
     "output_type": "execute_result"
    }
   ],
   "source": [
    "test_util = (1,10,10,2)\n",
    "\n",
    "def fgc(msg):\n",
    "    return fgc_classify_test_set(msg, test_util)\n",
    "\n",
    "test_set2['predicted'] = test_set2['SMS'].apply(fgc)\n",
    "test_set2.head()"
   ]
  },
  {
   "cell_type": "code",
   "execution_count": 439,
   "id": "a930bf1a",
   "metadata": {
    "scrolled": true
   },
   "outputs": [
    {
     "name": "stdout",
     "output_type": "stream",
     "text": [
      "Correct: 5170\n",
      "Incorrect: 235\n",
      "Accuracy: 0.9565217391304348\n",
      "False positives: (when a true ham is falsly flagged as spam) 27\n",
      "False negatives: (when a true Spam is falsly allowed as ham) 207\n"
     ]
    }
   ],
   "source": [
    "correct, f_pos, f_neg = 0, 0, 0\n",
    "total = test_set2.shape[0]\n",
    "\n",
    "for row in test_set2.iterrows():\n",
    "    row = row[1]\n",
    "    if row['Label'] == row['predicted']:\n",
    "        correct += 1\n",
    "    if row['Label'] == \"ham\" and row['predicted'] == \"spam\":\n",
    "        f_pos += 1\n",
    "    if row['Label'] == \"spam\" and row['predicted'] == \"ham\":\n",
    "        f_neg += 1\n",
    "\n",
    "print('Correct:', correct)\n",
    "print('Incorrect:', total - correct)\n",
    "print('Accuracy:', correct/total)\n",
    "print('False positives: (when a true ham is falsly flagged as spam)', f_pos)  \n",
    "print('False negatives: (when a true Spam is falsly allowed as ham)', f_neg)\n"
   ]
  },
  {
   "cell_type": "markdown",
   "id": "eea897a0",
   "metadata": {},
   "source": [
    "# 8. Reducing False Positives\n",
    "\n",
    "First we make a function that tests `fgc_classify_test_set` for that given utility vector and outputs the result as a vector `(correct, total - correct, correct/total, f_pos, f_neg)`"
   ]
  },
  {
   "cell_type": "code",
   "execution_count": 440,
   "id": "afd04dfd",
   "metadata": {},
   "outputs": [],
   "source": [
    "def run_fgc_for_util(util):\n",
    "    # Make a copy of the original test set\n",
    "    test_set_u = test_set_untouched.copy()\n",
    "    \n",
    "    def fgc(msg):\n",
    "        return fgc_classify_test_set(msg, util)\n",
    "\n",
    "    test_set_u['predicted'] = test_set_u['SMS'].apply(fgc)\n",
    "    test_set_u.head()\n",
    "    \n",
    "    correct = 0\n",
    "    total = test_set_u.shape[0]\n",
    "    f_pos = 0\n",
    "    f_neg = 0\n",
    "\n",
    "    for row in test_set_u.iterrows():\n",
    "        row = row[1]\n",
    "        if row['Label'] == row['predicted']:\n",
    "            correct += 1\n",
    "        if row['Label'] == \"ham\" and row['predicted'] == \"spam\":\n",
    "            f_pos += 1\n",
    "        if row['Label'] == \"spam\" and row['predicted'] == \"ham\":\n",
    "            f_neg += 1\n",
    "    \n",
    "    # Return the (correct, total - correct, correct/total, f_pos, f_neg) tuple\n",
    "    return correct, total - correct, correct/total, f_pos, f_neg"
   ]
  },
  {
   "cell_type": "markdown",
   "id": "34511ce1",
   "metadata": {},
   "source": [
    "## Reducing False positives by having more utility in `(S,H)`\n",
    "\n",
    "We will progressively go on increasing the utility in the `(S,H)` branch of the game. This makes the classfier reduce the false positives by trading off on other parameters."
   ]
  },
  {
   "cell_type": "code",
   "execution_count": 441,
   "id": "ad0121cf",
   "metadata": {},
   "outputs": [],
   "source": [
    "util_list = [(1,10,10,3) , (1,10,10,7), (1,10,10,10), (1,10,10,12), \\\n",
    "             (1,10,10,15), (1,10,10,17), (1,10,10,20), (1,10,10,30), \\\n",
    "             (1,10,10,50), (1,10,10,100), (1,10,10,200)]\n",
    "\n",
    "# We run the classifier on each of the utility tuples\n",
    "output_list = list(map(run_fgc_for_util, util_list))"
   ]
  },
  {
   "cell_type": "markdown",
   "id": "1a2d7b96",
   "metadata": {},
   "source": [
    "As we go on weighting `(S,H)` higher and higher we get the following results."
   ]
  },
  {
   "cell_type": "code",
   "execution_count": 442,
   "id": "b81adaab",
   "metadata": {
    "scrolled": false
   },
   "outputs": [
    {
     "name": "stdout",
     "output_type": "stream",
     "text": [
      "Correct, Incorrect, Accuracy, F_Pos, F_Neg\n",
      "[(5170, 235, 0.9565217391304348, 27, 207),\n",
      " (5170, 235, 0.9565217391304348, 27, 207),\n",
      " (5170, 235, 0.9565217391304348, 27, 207),\n",
      " (5162, 243, 0.9550416281221091, 25, 217),\n",
      " (5161, 244, 0.9548566142460685, 17, 226),\n",
      " (5159, 246, 0.9544865864939871, 16, 229),\n",
      " (5153, 252, 0.9533765032377428, 12, 239),\n",
      " (5143, 262, 0.9515263644773359, 4, 257),\n",
      " (5126, 279, 0.9483811285846439, 3, 275),\n",
      " (5087, 318, 0.9411655874190564, 3, 314),\n",
      " (5068, 337, 0.937650323774283, 2, 334)]\n"
     ]
    }
   ],
   "source": [
    "print(\"Correct, Incorrect, Accuracy, F_Pos, F_Neg\")\n",
    "from pprint import pprint\n",
    "pprint(output_list)"
   ]
  },
  {
   "cell_type": "code",
   "execution_count": 443,
   "id": "351a0702",
   "metadata": {},
   "outputs": [],
   "source": [
    "import numpy as np \n",
    "import matplotlib.pyplot as plt "
   ]
  },
  {
   "cell_type": "markdown",
   "id": "c408f5c4",
   "metadata": {},
   "source": [
    "We now plot these results using matplotlib."
   ]
  },
  {
   "cell_type": "code",
   "execution_count": 444,
   "id": "abc86833",
   "metadata": {
    "scrolled": false
   },
   "outputs": [
    {
     "data": {
      "image/png": "[encoded data removed]",
      "text/plain": [
       "<Figure size 432x288 with 2 Axes>"
      ]
     },
     "metadata": {
      "needs_background": "light"
     },
     "output_type": "display_data"
    }
   ],
   "source": [
    "acc = []\n",
    "pos = []\n",
    "for i in output_list:\n",
    "    acc.append(round(i[2], 3))\n",
    "    pos.append(i[3])\n",
    "\n",
    "\n",
    "X = util_list\n",
    "X_axis = np.arange(len(X))\n",
    "\n",
    "plt.subplot(1, 2, 1)\n",
    "plt.bar(X_axis , acc, 0.4, label = 'Girls')\n",
    "\n",
    "\n",
    "plt.ylim([0.92,0.96])\n",
    "\n",
    "plt.xticks(X_axis, X)\n",
    "plt.xticks(rotation=90)\n",
    "plt.xlabel(\"Utilities\")\n",
    "\n",
    "plt.title(\"Accuracy\")\n",
    "\n",
    "plt.subplot(1, 2, 2)\n",
    " \n",
    "plt.bar(X_axis + 0.2, pos, 0.4, label = 'FP')\n",
    "plt.title('False Positives')\n",
    "\n",
    "# space between the plots\n",
    "plt.tight_layout(pad=1)\n",
    "\n",
    "plt.xticks(X_axis, X)\n",
    "plt.xticks(rotation=90)\n",
    "plt.xlabel(\"Utilities\")\n",
    "\n",
    "plt.title(\"False Positives\")\n",
    "\n",
    "plt.show()"
   ]
  },
  {
   "cell_type": "markdown",
   "id": "5ec3b450",
   "metadata": {},
   "source": [
    "# 9. Reducing false negatives\n",
    "\n",
    "We do this by reducing the utility of `(H,H)` with respect to `(S,H)` branch."
   ]
  },
  {
   "cell_type": "code",
   "execution_count": 445,
   "id": "fa232cae",
   "metadata": {},
   "outputs": [
    {
     "name": "stdout",
     "output_type": "stream",
     "text": [
      "Correct, Incorrect, Accuracy, F_Pos, F_Neg\n",
      "[(5167, 238, 0.9559666975023127, 84, 153),\n",
      " (5157, 248, 0.9541165587419056, 97, 150),\n",
      " (5058, 347, 0.9358001850138761, 217, 129),\n",
      " (4950, 455, 0.9158186864014801, 353, 101),\n",
      " (4769, 636, 0.8823311748381129, 549, 86),\n",
      " (4536, 869, 0.8392229417206291, 786, 82)]\n"
     ]
    }
   ],
   "source": [
    "print(\"Correct, Incorrect, Accuracy, F_Pos, F_Neg\")\n",
    "util_list2 = [(1,10,50,10) , (1,10,60,10), (1,10,100,10), (1,10,200,10), \\\n",
    "             (1,10,400,10), (1,10,800,10)]\n",
    "output_list2 = list(map(run_fgc_for_util, util_list2))\n",
    "pprint(output_list2)"
   ]
  },
  {
   "cell_type": "markdown",
   "id": "5225fb3d",
   "metadata": {},
   "source": [
    "We now plot these results."
   ]
  },
  {
   "cell_type": "code",
   "execution_count": 446,
   "id": "d5be54c4",
   "metadata": {},
   "outputs": [
    {
     "data": {
      "image/png": "[encoded data removed]",
      "text/plain": [
       "<Figure size 432x288 with 2 Axes>"
      ]
     },
     "metadata": {
      "needs_background": "light"
     },
     "output_type": "display_data"
    }
   ],
   "source": [
    "acc2 = []\n",
    "pos2 = []\n",
    "for i in output_list2:\n",
    "    acc2.append(round(i[2], 3))\n",
    "    pos2.append(i[4])\n",
    "\n",
    "X = util_list2\n",
    "X_axis = np.arange(len(X))\n",
    "\n",
    "plt.subplot(1, 2, 1)\n",
    "plt.bar(X_axis , acc2, 0.4, label = 'Girls')\n",
    "plt.ylim([0.8, 0.96])\n",
    "\n",
    "plt.xticks(X_axis, X)\n",
    "plt.xticks(rotation=90)\n",
    "plt.xlabel(\"Utilities\")\n",
    "plt.title(\"Accuracy\")\n",
    "\n",
    "plt.subplot(1, 2, 2)\n",
    "\n",
    "plt.bar(X_axis + 0.2, pos2, 0.4, label = 'Boys')\n",
    "plt.title('False Negatives')\n",
    " \n",
    "# space between the plots\n",
    "plt.tight_layout(pad=1)\n",
    "  \n",
    "plt.xticks(X_axis, X)\n",
    "plt.xticks(rotation=90)\n",
    "plt.xlabel(\"Utilities\")\n",
    "plt.show()"
   ]
  }
 ],
 "metadata": {
  "kernelspec": {
   "display_name": "Python 3",
   "language": "python",
   "name": "python3"
  },
  "language_info": {
   "codemirror_mode": {
    "name": "ipython",
    "version": 3
   },
   "file_extension": ".py",
   "mimetype": "text/x-python",
   "name": "python",
   "nbconvert_exporter": "python",
   "pygments_lexer": "ipython3",
   "version": "3.8.10"
  }
 },
 "nbformat": 4,
 "nbformat_minor": 5
}
