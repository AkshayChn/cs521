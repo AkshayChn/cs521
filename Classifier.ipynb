{
 "cells": [
  {
   "cell_type": "markdown",
   "id": "b687f506",
   "metadata": {},
   "source": [
    "# Classifier\n",
    "\n",
    "First we open the SMS Spam Collection v.1 dataset. The corpus has been collected by Tiago Agostinho de Almeida (http://www.dt.fee.unicamp.br/~tiago) and José María Gómez Hidalgo (http://www.esp.uem.es/jmgomez), and can be found here: (https://archive.ics.uci.edu/ml/datasets/sms+spam+collection#)\n",
    "\n",
    "We need a simple classifier example to illustrate our algorithm. We've chosen the tutorial by KDnuggets titled _Spam Filter in Python: Naive Bayes from Scratch_ for our example."
   ]
  },
  {
   "cell_type": "code",
   "execution_count": 1758,
   "id": "c8fa0c2d",
   "metadata": {},
   "outputs": [
    {
     "name": "stdout",
     "output_type": "stream",
     "text": [
      "(5572, 2)\n"
     ]
    },
    {
     "data": {
      "text/html": [
       "<div>\n",
       "<style scoped>\n",
       "    .dataframe tbody tr th:only-of-type {\n",
       "        vertical-align: middle;\n",
       "    }\n",
       "\n",
       "    .dataframe tbody tr th {\n",
       "        vertical-align: top;\n",
       "    }\n",
       "\n",
       "    .dataframe thead th {\n",
       "        text-align: right;\n",
       "    }\n",
       "</style>\n",
       "<table border=\"1\" class=\"dataframe\">\n",
       "  <thead>\n",
       "    <tr style=\"text-align: right;\">\n",
       "      <th></th>\n",
       "      <th>Label</th>\n",
       "      <th>SMS</th>\n",
       "    </tr>\n",
       "  </thead>\n",
       "  <tbody>\n",
       "    <tr>\n",
       "      <th>0</th>\n",
       "      <td>ham</td>\n",
       "      <td>Go until jurong point, crazy.. Available only ...</td>\n",
       "    </tr>\n",
       "    <tr>\n",
       "      <th>1</th>\n",
       "      <td>ham</td>\n",
       "      <td>Ok lar... Joking wif u oni...</td>\n",
       "    </tr>\n",
       "    <tr>\n",
       "      <th>2</th>\n",
       "      <td>spam</td>\n",
       "      <td>Free entry in 2 a wkly comp to win FA Cup fina...</td>\n",
       "    </tr>\n",
       "    <tr>\n",
       "      <th>3</th>\n",
       "      <td>ham</td>\n",
       "      <td>U dun say so early hor... U c already then say...</td>\n",
       "    </tr>\n",
       "    <tr>\n",
       "      <th>4</th>\n",
       "      <td>ham</td>\n",
       "      <td>Nah I don't think he goes to usf, he lives aro...</td>\n",
       "    </tr>\n",
       "  </tbody>\n",
       "</table>\n",
       "</div>"
      ],
      "text/plain": [
       "  Label                                                SMS\n",
       "0   ham  Go until jurong point, crazy.. Available only ...\n",
       "1   ham                      Ok lar... Joking wif u oni...\n",
       "2  spam  Free entry in 2 a wkly comp to win FA Cup fina...\n",
       "3   ham  U dun say so early hor... U c already then say...\n",
       "4   ham  Nah I don't think he goes to usf, he lives aro..."
      ]
     },
     "execution_count": 1758,
     "metadata": {},
     "output_type": "execute_result"
    }
   ],
   "source": [
    "import pandas as pd\n",
    "\n",
    "sms_spam = pd.read_csv('SMSSpamCollection', sep='\\t', header = None, names = [\"Label\", \"SMS\"])\n",
    "\n",
    "print(sms_spam.shape)\n",
    "sms_spam.head()"
   ]
  },
  {
   "cell_type": "markdown",
   "id": "382ad4d3",
   "metadata": {},
   "source": [
    "Now we count the number of spam and ham SMS. "
   ]
  },
  {
   "cell_type": "code",
   "execution_count": 1759,
   "id": "ba26f53a",
   "metadata": {},
   "outputs": [
    {
     "data": {
      "text/plain": [
       "ham     0.865937\n",
       "spam    0.134063\n",
       "Name: Label, dtype: float64"
      ]
     },
     "execution_count": 1759,
     "metadata": {},
     "output_type": "execute_result"
    }
   ],
   "source": [
    "sms_spam['Label'].value_counts(normalize=True)"
   ]
  },
  {
   "cell_type": "markdown",
   "id": "cb999e28",
   "metadata": {},
   "source": [
    "## Data Set Preparation\n",
    "Now we randomize the data and prepare the dataset."
   ]
  },
  {
   "cell_type": "code",
   "execution_count": 1760,
   "id": "d30bfc66",
   "metadata": {},
   "outputs": [
    {
     "name": "stdout",
     "output_type": "stream",
     "text": [
      "(167, 2)\n",
      "(5405, 2)\n"
     ]
    }
   ],
   "source": [
    "# Randomize the dataset\n",
    "data_randomized = sms_spam.sample(frac=1, random_state=1)\n",
    "\n",
    "training_set_size_percentage = 3 / 100\n",
    "\n",
    "# Calculate index for split\n",
    "training_test_index = round(len(data_randomized) * training_set_size_percentage)\n",
    "\n",
    "# Split into training and test sets\n",
    "training_set = data_randomized[:training_test_index].reset_index(drop=True)\n",
    "test_set = data_randomized[training_test_index:].reset_index(drop=True)\n",
    "\n",
    "test_set_untouched = test_set.copy()\n",
    "print(training_set.shape)\n",
    "print(test_set.shape)"
   ]
  },
  {
   "cell_type": "code",
   "execution_count": 1761,
   "id": "858dcc0d",
   "metadata": {},
   "outputs": [
    {
     "data": {
      "text/plain": [
       "ham     0.874251\n",
       "spam    0.125749\n",
       "Name: Label, dtype: float64"
      ]
     },
     "execution_count": 1761,
     "metadata": {},
     "output_type": "execute_result"
    }
   ],
   "source": [
    "training_set['Label'].value_counts(normalize=True)"
   ]
  },
  {
   "cell_type": "code",
   "execution_count": 1762,
   "id": "9b6409d9",
   "metadata": {},
   "outputs": [
    {
     "data": {
      "text/plain": [
       "ham     0.86568\n",
       "spam    0.13432\n",
       "Name: Label, dtype: float64"
      ]
     },
     "execution_count": 1762,
     "metadata": {},
     "output_type": "execute_result"
    }
   ],
   "source": [
    "test_set['Label'].value_counts(normalize=True)"
   ]
  },
  {
   "cell_type": "markdown",
   "id": "aec2931a",
   "metadata": {},
   "source": [
    "### Data cleaning\n",
    "We remove all the punctuation and make everything lowercase."
   ]
  },
  {
   "cell_type": "code",
   "execution_count": 1763,
   "id": "5aca0c87",
   "metadata": {},
   "outputs": [
    {
     "name": "stderr",
     "output_type": "stream",
     "text": [
      "<ipython-input-1763-230afeb84e09>:1: FutureWarning: The default value of regex will change from True to False in a future version.\n",
      "  training_set['SMS'] = training_set['SMS'].str.replace(\n"
     ]
    },
    {
     "data": {
      "text/html": [
       "<div>\n",
       "<style scoped>\n",
       "    .dataframe tbody tr th:only-of-type {\n",
       "        vertical-align: middle;\n",
       "    }\n",
       "\n",
       "    .dataframe tbody tr th {\n",
       "        vertical-align: top;\n",
       "    }\n",
       "\n",
       "    .dataframe thead th {\n",
       "        text-align: right;\n",
       "    }\n",
       "</style>\n",
       "<table border=\"1\" class=\"dataframe\">\n",
       "  <thead>\n",
       "    <tr style=\"text-align: right;\">\n",
       "      <th></th>\n",
       "      <th>Label</th>\n",
       "      <th>SMS</th>\n",
       "    </tr>\n",
       "  </thead>\n",
       "  <tbody>\n",
       "    <tr>\n",
       "      <th>0</th>\n",
       "      <td>ham</td>\n",
       "      <td>yep  by the pretty sculpture</td>\n",
       "    </tr>\n",
       "    <tr>\n",
       "      <th>1</th>\n",
       "      <td>ham</td>\n",
       "      <td>yes  princess  are you going to make me moan</td>\n",
       "    </tr>\n",
       "    <tr>\n",
       "      <th>2</th>\n",
       "      <td>ham</td>\n",
       "      <td>welp apparently he retired</td>\n",
       "    </tr>\n",
       "  </tbody>\n",
       "</table>\n",
       "</div>"
      ],
      "text/plain": [
       "  Label                                            SMS\n",
       "0   ham                   yep  by the pretty sculpture\n",
       "1   ham  yes  princess  are you going to make me moan \n",
       "2   ham                     welp apparently he retired"
      ]
     },
     "execution_count": 1763,
     "metadata": {},
     "output_type": "execute_result"
    }
   ],
   "source": [
    "training_set['SMS'] = training_set['SMS'].str.replace(\n",
    "   '\\W', ' ') # Removes punctuation\n",
    "training_set['SMS'] = training_set['SMS'].str.lower()\n",
    "training_set.head(3)"
   ]
  },
  {
   "cell_type": "markdown",
   "id": "f50c5812",
   "metadata": {},
   "source": [
    "### Creating the vocabulary\n",
    "We make a set of all unique words in our data."
   ]
  },
  {
   "cell_type": "code",
   "execution_count": 1764,
   "id": "d98aa57c",
   "metadata": {},
   "outputs": [
    {
     "data": {
      "text/plain": [
       "1012"
      ]
     },
     "execution_count": 1764,
     "metadata": {},
     "output_type": "execute_result"
    }
   ],
   "source": [
    "training_set['SMS'] = training_set['SMS'].str.split()\n",
    "\n",
    "vocabulary = []\n",
    "for sms in training_set['SMS']:\n",
    "    for word in sms:\n",
    "        vocabulary.append(word)\n",
    "\n",
    "vocabulary = list(set(vocabulary))\n",
    "len(vocabulary)"
   ]
  },
  {
   "cell_type": "code",
   "execution_count": 1765,
   "id": "5b27d16b",
   "metadata": {},
   "outputs": [],
   "source": [
    "word_counts_per_sms = {unique_word: [0] * len(training_set['SMS']) for unique_word in vocabulary}\n",
    "\n",
    "for index, sms in enumerate(training_set['SMS']):\n",
    "    for word in sms:\n",
    "        word_counts_per_sms[word][index] += 1"
   ]
  },
  {
   "cell_type": "code",
   "execution_count": 1766,
   "id": "2e656963",
   "metadata": {},
   "outputs": [
    {
     "data": {
      "text/html": [
       "<div>\n",
       "<style scoped>\n",
       "    .dataframe tbody tr th:only-of-type {\n",
       "        vertical-align: middle;\n",
       "    }\n",
       "\n",
       "    .dataframe tbody tr th {\n",
       "        vertical-align: top;\n",
       "    }\n",
       "\n",
       "    .dataframe thead th {\n",
       "        text-align: right;\n",
       "    }\n",
       "</style>\n",
       "<table border=\"1\" class=\"dataframe\">\n",
       "  <thead>\n",
       "    <tr style=\"text-align: right;\">\n",
       "      <th></th>\n",
       "      <th>of</th>\n",
       "      <th>part</th>\n",
       "      <th>lays</th>\n",
       "      <th>lessons</th>\n",
       "      <th>look</th>\n",
       "      <th>help</th>\n",
       "      <th>aft</th>\n",
       "      <th>gettin</th>\n",
       "      <th>made</th>\n",
       "      <th>europe</th>\n",
       "      <th>...</th>\n",
       "      <th>very</th>\n",
       "      <th>pick</th>\n",
       "      <th>nap</th>\n",
       "      <th>rate</th>\n",
       "      <th>k61</th>\n",
       "      <th>sim</th>\n",
       "      <th>list</th>\n",
       "      <th>mgs</th>\n",
       "      <th>morning</th>\n",
       "      <th>into</th>\n",
       "    </tr>\n",
       "  </thead>\n",
       "  <tbody>\n",
       "    <tr>\n",
       "      <th>0</th>\n",
       "      <td>0</td>\n",
       "      <td>0</td>\n",
       "      <td>0</td>\n",
       "      <td>0</td>\n",
       "      <td>0</td>\n",
       "      <td>0</td>\n",
       "      <td>0</td>\n",
       "      <td>0</td>\n",
       "      <td>0</td>\n",
       "      <td>0</td>\n",
       "      <td>...</td>\n",
       "      <td>0</td>\n",
       "      <td>0</td>\n",
       "      <td>0</td>\n",
       "      <td>0</td>\n",
       "      <td>0</td>\n",
       "      <td>0</td>\n",
       "      <td>0</td>\n",
       "      <td>0</td>\n",
       "      <td>0</td>\n",
       "      <td>0</td>\n",
       "    </tr>\n",
       "    <tr>\n",
       "      <th>1</th>\n",
       "      <td>0</td>\n",
       "      <td>0</td>\n",
       "      <td>0</td>\n",
       "      <td>0</td>\n",
       "      <td>0</td>\n",
       "      <td>0</td>\n",
       "      <td>0</td>\n",
       "      <td>0</td>\n",
       "      <td>0</td>\n",
       "      <td>0</td>\n",
       "      <td>...</td>\n",
       "      <td>0</td>\n",
       "      <td>0</td>\n",
       "      <td>0</td>\n",
       "      <td>0</td>\n",
       "      <td>0</td>\n",
       "      <td>0</td>\n",
       "      <td>0</td>\n",
       "      <td>0</td>\n",
       "      <td>0</td>\n",
       "      <td>0</td>\n",
       "    </tr>\n",
       "    <tr>\n",
       "      <th>2</th>\n",
       "      <td>0</td>\n",
       "      <td>0</td>\n",
       "      <td>0</td>\n",
       "      <td>0</td>\n",
       "      <td>0</td>\n",
       "      <td>0</td>\n",
       "      <td>0</td>\n",
       "      <td>0</td>\n",
       "      <td>0</td>\n",
       "      <td>0</td>\n",
       "      <td>...</td>\n",
       "      <td>0</td>\n",
       "      <td>0</td>\n",
       "      <td>0</td>\n",
       "      <td>0</td>\n",
       "      <td>0</td>\n",
       "      <td>0</td>\n",
       "      <td>0</td>\n",
       "      <td>0</td>\n",
       "      <td>0</td>\n",
       "      <td>0</td>\n",
       "    </tr>\n",
       "    <tr>\n",
       "      <th>3</th>\n",
       "      <td>0</td>\n",
       "      <td>0</td>\n",
       "      <td>0</td>\n",
       "      <td>0</td>\n",
       "      <td>0</td>\n",
       "      <td>0</td>\n",
       "      <td>0</td>\n",
       "      <td>0</td>\n",
       "      <td>0</td>\n",
       "      <td>0</td>\n",
       "      <td>...</td>\n",
       "      <td>0</td>\n",
       "      <td>0</td>\n",
       "      <td>0</td>\n",
       "      <td>0</td>\n",
       "      <td>0</td>\n",
       "      <td>0</td>\n",
       "      <td>0</td>\n",
       "      <td>0</td>\n",
       "      <td>0</td>\n",
       "      <td>0</td>\n",
       "    </tr>\n",
       "    <tr>\n",
       "      <th>4</th>\n",
       "      <td>0</td>\n",
       "      <td>0</td>\n",
       "      <td>0</td>\n",
       "      <td>0</td>\n",
       "      <td>0</td>\n",
       "      <td>0</td>\n",
       "      <td>0</td>\n",
       "      <td>0</td>\n",
       "      <td>0</td>\n",
       "      <td>0</td>\n",
       "      <td>...</td>\n",
       "      <td>0</td>\n",
       "      <td>0</td>\n",
       "      <td>0</td>\n",
       "      <td>0</td>\n",
       "      <td>0</td>\n",
       "      <td>0</td>\n",
       "      <td>0</td>\n",
       "      <td>0</td>\n",
       "      <td>0</td>\n",
       "      <td>0</td>\n",
       "    </tr>\n",
       "  </tbody>\n",
       "</table>\n",
       "<p>5 rows × 1012 columns</p>\n",
       "</div>"
      ],
      "text/plain": [
       "   of  part  lays  lessons  look  help  aft  gettin  made  europe  ...  very  \\\n",
       "0   0     0     0        0     0     0    0       0     0       0  ...     0   \n",
       "1   0     0     0        0     0     0    0       0     0       0  ...     0   \n",
       "2   0     0     0        0     0     0    0       0     0       0  ...     0   \n",
       "3   0     0     0        0     0     0    0       0     0       0  ...     0   \n",
       "4   0     0     0        0     0     0    0       0     0       0  ...     0   \n",
       "\n",
       "   pick  nap  rate  k61  sim  list  mgs  morning  into  \n",
       "0     0    0     0    0    0     0    0        0     0  \n",
       "1     0    0     0    0    0     0    0        0     0  \n",
       "2     0    0     0    0    0     0    0        0     0  \n",
       "3     0    0     0    0    0     0    0        0     0  \n",
       "4     0    0     0    0    0     0    0        0     0  \n",
       "\n",
       "[5 rows x 1012 columns]"
      ]
     },
     "execution_count": 1766,
     "metadata": {},
     "output_type": "execute_result"
    }
   ],
   "source": [
    "word_counts = pd.DataFrame(word_counts_per_sms)\n",
    "word_counts.head()"
   ]
  },
  {
   "cell_type": "code",
   "execution_count": 1767,
   "id": "f0ab8d07",
   "metadata": {
    "scrolled": true
   },
   "outputs": [
    {
     "data": {
      "text/html": [
       "<div>\n",
       "<style scoped>\n",
       "    .dataframe tbody tr th:only-of-type {\n",
       "        vertical-align: middle;\n",
       "    }\n",
       "\n",
       "    .dataframe tbody tr th {\n",
       "        vertical-align: top;\n",
       "    }\n",
       "\n",
       "    .dataframe thead th {\n",
       "        text-align: right;\n",
       "    }\n",
       "</style>\n",
       "<table border=\"1\" class=\"dataframe\">\n",
       "  <thead>\n",
       "    <tr style=\"text-align: right;\">\n",
       "      <th></th>\n",
       "      <th>Label</th>\n",
       "      <th>SMS</th>\n",
       "      <th>of</th>\n",
       "      <th>part</th>\n",
       "      <th>lays</th>\n",
       "      <th>lessons</th>\n",
       "      <th>look</th>\n",
       "      <th>help</th>\n",
       "      <th>aft</th>\n",
       "      <th>gettin</th>\n",
       "      <th>...</th>\n",
       "      <th>very</th>\n",
       "      <th>pick</th>\n",
       "      <th>nap</th>\n",
       "      <th>rate</th>\n",
       "      <th>k61</th>\n",
       "      <th>sim</th>\n",
       "      <th>list</th>\n",
       "      <th>mgs</th>\n",
       "      <th>morning</th>\n",
       "      <th>into</th>\n",
       "    </tr>\n",
       "  </thead>\n",
       "  <tbody>\n",
       "    <tr>\n",
       "      <th>0</th>\n",
       "      <td>ham</td>\n",
       "      <td>[yep, by, the, pretty, sculpture]</td>\n",
       "      <td>0</td>\n",
       "      <td>0</td>\n",
       "      <td>0</td>\n",
       "      <td>0</td>\n",
       "      <td>0</td>\n",
       "      <td>0</td>\n",
       "      <td>0</td>\n",
       "      <td>0</td>\n",
       "      <td>...</td>\n",
       "      <td>0</td>\n",
       "      <td>0</td>\n",
       "      <td>0</td>\n",
       "      <td>0</td>\n",
       "      <td>0</td>\n",
       "      <td>0</td>\n",
       "      <td>0</td>\n",
       "      <td>0</td>\n",
       "      <td>0</td>\n",
       "      <td>0</td>\n",
       "    </tr>\n",
       "    <tr>\n",
       "      <th>1</th>\n",
       "      <td>ham</td>\n",
       "      <td>[yes, princess, are, you, going, to, make, me,...</td>\n",
       "      <td>0</td>\n",
       "      <td>0</td>\n",
       "      <td>0</td>\n",
       "      <td>0</td>\n",
       "      <td>0</td>\n",
       "      <td>0</td>\n",
       "      <td>0</td>\n",
       "      <td>0</td>\n",
       "      <td>...</td>\n",
       "      <td>0</td>\n",
       "      <td>0</td>\n",
       "      <td>0</td>\n",
       "      <td>0</td>\n",
       "      <td>0</td>\n",
       "      <td>0</td>\n",
       "      <td>0</td>\n",
       "      <td>0</td>\n",
       "      <td>0</td>\n",
       "      <td>0</td>\n",
       "    </tr>\n",
       "    <tr>\n",
       "      <th>2</th>\n",
       "      <td>ham</td>\n",
       "      <td>[welp, apparently, he, retired]</td>\n",
       "      <td>0</td>\n",
       "      <td>0</td>\n",
       "      <td>0</td>\n",
       "      <td>0</td>\n",
       "      <td>0</td>\n",
       "      <td>0</td>\n",
       "      <td>0</td>\n",
       "      <td>0</td>\n",
       "      <td>...</td>\n",
       "      <td>0</td>\n",
       "      <td>0</td>\n",
       "      <td>0</td>\n",
       "      <td>0</td>\n",
       "      <td>0</td>\n",
       "      <td>0</td>\n",
       "      <td>0</td>\n",
       "      <td>0</td>\n",
       "      <td>0</td>\n",
       "      <td>0</td>\n",
       "    </tr>\n",
       "    <tr>\n",
       "      <th>3</th>\n",
       "      <td>ham</td>\n",
       "      <td>[havent]</td>\n",
       "      <td>0</td>\n",
       "      <td>0</td>\n",
       "      <td>0</td>\n",
       "      <td>0</td>\n",
       "      <td>0</td>\n",
       "      <td>0</td>\n",
       "      <td>0</td>\n",
       "      <td>0</td>\n",
       "      <td>...</td>\n",
       "      <td>0</td>\n",
       "      <td>0</td>\n",
       "      <td>0</td>\n",
       "      <td>0</td>\n",
       "      <td>0</td>\n",
       "      <td>0</td>\n",
       "      <td>0</td>\n",
       "      <td>0</td>\n",
       "      <td>0</td>\n",
       "      <td>0</td>\n",
       "    </tr>\n",
       "    <tr>\n",
       "      <th>4</th>\n",
       "      <td>ham</td>\n",
       "      <td>[i, forgot, 2, ask, ü, all, smth, there, s, a,...</td>\n",
       "      <td>0</td>\n",
       "      <td>0</td>\n",
       "      <td>0</td>\n",
       "      <td>0</td>\n",
       "      <td>0</td>\n",
       "      <td>0</td>\n",
       "      <td>0</td>\n",
       "      <td>0</td>\n",
       "      <td>...</td>\n",
       "      <td>0</td>\n",
       "      <td>0</td>\n",
       "      <td>0</td>\n",
       "      <td>0</td>\n",
       "      <td>0</td>\n",
       "      <td>0</td>\n",
       "      <td>0</td>\n",
       "      <td>0</td>\n",
       "      <td>0</td>\n",
       "      <td>0</td>\n",
       "    </tr>\n",
       "  </tbody>\n",
       "</table>\n",
       "<p>5 rows × 1014 columns</p>\n",
       "</div>"
      ],
      "text/plain": [
       "  Label                                                SMS  of  part  lays  \\\n",
       "0   ham                  [yep, by, the, pretty, sculpture]   0     0     0   \n",
       "1   ham  [yes, princess, are, you, going, to, make, me,...   0     0     0   \n",
       "2   ham                    [welp, apparently, he, retired]   0     0     0   \n",
       "3   ham                                           [havent]   0     0     0   \n",
       "4   ham  [i, forgot, 2, ask, ü, all, smth, there, s, a,...   0     0     0   \n",
       "\n",
       "   lessons  look  help  aft  gettin  ...  very  pick  nap  rate  k61  sim  \\\n",
       "0        0     0     0    0       0  ...     0     0    0     0    0    0   \n",
       "1        0     0     0    0       0  ...     0     0    0     0    0    0   \n",
       "2        0     0     0    0       0  ...     0     0    0     0    0    0   \n",
       "3        0     0     0    0       0  ...     0     0    0     0    0    0   \n",
       "4        0     0     0    0       0  ...     0     0    0     0    0    0   \n",
       "\n",
       "   list  mgs  morning  into  \n",
       "0     0    0        0     0  \n",
       "1     0    0        0     0  \n",
       "2     0    0        0     0  \n",
       "3     0    0        0     0  \n",
       "4     0    0        0     0  \n",
       "\n",
       "[5 rows x 1014 columns]"
      ]
     },
     "execution_count": 1767,
     "metadata": {},
     "output_type": "execute_result"
    }
   ],
   "source": [
    "training_set_clean = pd.concat([training_set, word_counts], axis=1)\n",
    "training_set_clean.head()"
   ]
  },
  {
   "cell_type": "markdown",
   "id": "f371feb9",
   "metadata": {},
   "source": [
    "We use Laplace smoothing with $\\alpha$ = 1"
   ]
  },
  {
   "cell_type": "code",
   "execution_count": 1768,
   "id": "176c45d9",
   "metadata": {},
   "outputs": [],
   "source": [
    "# Isolating spam and ham messages first\n",
    "spam_messages = training_set_clean[training_set_clean['Label'] == 'spam']\n",
    "ham_messages = training_set_clean[training_set_clean['Label'] == 'ham']\n",
    "\n",
    "# P(Spam) and P(Ham)\n",
    "p_spam = len(spam_messages) / len(training_set_clean)\n",
    "p_ham = len(ham_messages) / len(training_set_clean)\n",
    "\n",
    "# N_Spam\n",
    "n_words_per_spam_message = spam_messages['SMS'].apply(len)\n",
    "n_spam = n_words_per_spam_message.sum()\n",
    "\n",
    "# N_Ham\n",
    "n_words_per_ham_message = ham_messages['SMS'].apply(len)\n",
    "n_ham = n_words_per_ham_message.sum()\n",
    "\n",
    "# N_Vocabulary\n",
    "n_vocabulary = len(vocabulary)\n",
    "\n",
    "# Laplace smoothing\n",
    "alpha = 1"
   ]
  },
  {
   "cell_type": "markdown",
   "id": "5840d5d9",
   "metadata": {},
   "source": [
    "### Calculating Parameters"
   ]
  },
  {
   "cell_type": "code",
   "execution_count": 1769,
   "id": "b784d8cf",
   "metadata": {},
   "outputs": [],
   "source": [
    "# Initiate parameters\n",
    "parameters_spam = {unique_word:0 for unique_word in vocabulary}\n",
    "parameters_ham = {unique_word:0 for unique_word in vocabulary}\n",
    "\n",
    "# Calculate parameters\n",
    "for word in vocabulary:\n",
    "    n_word_given_spam = spam_messages[word].sum() # spam_messages already defined\n",
    "    p_word_given_spam = (n_word_given_spam + alpha) / (n_spam + alpha*n_vocabulary)\n",
    "    parameters_spam[word] = p_word_given_spam\n",
    "\n",
    "    n_word_given_ham = ham_messages[word].sum() # ham_messages already defined\n",
    "    p_word_given_ham = (n_word_given_ham + alpha) / (n_ham + alpha*n_vocabulary)\n",
    "    parameters_ham[word] = p_word_given_ham"
   ]
  },
  {
   "cell_type": "code",
   "execution_count": 1770,
   "id": "31a07b48",
   "metadata": {},
   "outputs": [],
   "source": [
    "import re\n",
    "\n",
    "def classify(message):\n",
    "    '''\n",
    "    message: a string\n",
    "    '''\n",
    "\n",
    "    message = re.sub('\\W', ' ', message)\n",
    "    message = message.lower().split()\n",
    "\n",
    "    p_spam_given_message = p_spam\n",
    "    p_ham_given_message = p_ham\n",
    "\n",
    "    for word in message:\n",
    "        if word in parameters_spam:\n",
    "            p_spam_given_message *= parameters_spam[word]\n",
    "\n",
    "        if word in parameters_ham: \n",
    "            p_ham_given_message *= parameters_ham[word]\n",
    "    \n",
    "    p_h = p_ham_given_message / (p_spam_given_message + p_ham_given_message)\n",
    "    p_s = p_spam_given_message / (p_spam_given_message + p_ham_given_message)\n",
    "    \n",
    "    return p_s, p_h\n",
    "    #return p_spam_given_message, p_ham_given_message\n",
    "    \n",
    "    "
   ]
  },
  {
   "cell_type": "markdown",
   "id": "5cfac6b7",
   "metadata": {},
   "source": [
    "### Testing the classifier"
   ]
  },
  {
   "cell_type": "code",
   "execution_count": 1771,
   "id": "9de9fbea",
   "metadata": {},
   "outputs": [],
   "source": [
    "def classify_and_print(message):\n",
    "    p_spam_given_message, p_ham_given_message = classify(message)\n",
    "    \n",
    "    \n",
    "    \n",
    "    print('P(Spam|message):', p_spam_given_message)\n",
    "    print('P(Ham|message):', p_ham_given_message)\n",
    "    \n",
    "    \n",
    "    if p_ham_given_message > p_spam_given_message:\n",
    "        print('Label: Ham')\n",
    "    elif p_ham_given_message < p_spam_given_message:\n",
    "        print('Label: Spam')\n",
    "    else:\n",
    "        print('Equal proabilities, have a human classify this!')"
   ]
  },
  {
   "cell_type": "code",
   "execution_count": 1772,
   "id": "04f0dbe4",
   "metadata": {
    "scrolled": true
   },
   "outputs": [
    {
     "name": "stdout",
     "output_type": "stream",
     "text": [
      "P(Spam|message): 0.016576949832007425\n",
      "P(Ham|message): 0.9834230501679925\n",
      "Label: Ham\n"
     ]
    }
   ],
   "source": [
    "classify_and_print('WINNER!! This is the secret code to unlock the money: C3421.')"
   ]
  },
  {
   "cell_type": "code",
   "execution_count": 1773,
   "id": "d79d605f",
   "metadata": {},
   "outputs": [],
   "source": [
    "def classify_test_set(message):\n",
    "    \n",
    "    p_spam_given_message, p_ham_given_message = classify(message)\n",
    "    \n",
    "    \n",
    "    if p_ham_given_message > p_spam_given_message:\n",
    "        return 'ham'\n",
    "    elif p_spam_given_message > p_ham_given_message:\n",
    "        return 'spam'\n",
    "    else:\n",
    "        return 'needs human classification'\n",
    "        \n",
    "    '''\n",
    "    \n",
    "    p_h = p_ham_given_message / (p_spam_given_message + p_ham_given_message)\n",
    "    p_s = p_spam_given_message / (p_spam_given_message + p_ham_given_message)\n",
    "    \n",
    "    if p_h > p_s:\n",
    "        return 'ham'\n",
    "    elif p_s > p_h:\n",
    "        return 'spam'\n",
    "    else:\n",
    "        return 'needs human classification'\n",
    "    '''"
   ]
  },
  {
   "cell_type": "code",
   "execution_count": 1774,
   "id": "79d876fd",
   "metadata": {
    "scrolled": true
   },
   "outputs": [
    {
     "data": {
      "text/html": [
       "<div>\n",
       "<style scoped>\n",
       "    .dataframe tbody tr th:only-of-type {\n",
       "        vertical-align: middle;\n",
       "    }\n",
       "\n",
       "    .dataframe tbody tr th {\n",
       "        vertical-align: top;\n",
       "    }\n",
       "\n",
       "    .dataframe thead th {\n",
       "        text-align: right;\n",
       "    }\n",
       "</style>\n",
       "<table border=\"1\" class=\"dataframe\">\n",
       "  <thead>\n",
       "    <tr style=\"text-align: right;\">\n",
       "      <th></th>\n",
       "      <th>Label</th>\n",
       "      <th>SMS</th>\n",
       "      <th>predicted</th>\n",
       "    </tr>\n",
       "  </thead>\n",
       "  <tbody>\n",
       "    <tr>\n",
       "      <th>0</th>\n",
       "      <td>ham</td>\n",
       "      <td>My Parents, My Kidz, My Friends n My Colleague...</td>\n",
       "      <td>ham</td>\n",
       "    </tr>\n",
       "    <tr>\n",
       "      <th>1</th>\n",
       "      <td>ham</td>\n",
       "      <td>Yeah go on then, bored and depressed sittin wa...</td>\n",
       "      <td>ham</td>\n",
       "    </tr>\n",
       "    <tr>\n",
       "      <th>2</th>\n",
       "      <td>ham</td>\n",
       "      <td>Can you plz tell me the ans. BSLVYL sent via f...</td>\n",
       "      <td>ham</td>\n",
       "    </tr>\n",
       "    <tr>\n",
       "      <th>3</th>\n",
       "      <td>ham</td>\n",
       "      <td>Lol yes. Our friendship is hanging on a thread...</td>\n",
       "      <td>ham</td>\n",
       "    </tr>\n",
       "    <tr>\n",
       "      <th>4</th>\n",
       "      <td>ham</td>\n",
       "      <td>cool. We will have fun practicing making babies!</td>\n",
       "      <td>ham</td>\n",
       "    </tr>\n",
       "  </tbody>\n",
       "</table>\n",
       "</div>"
      ],
      "text/plain": [
       "  Label                                                SMS predicted\n",
       "0   ham  My Parents, My Kidz, My Friends n My Colleague...       ham\n",
       "1   ham  Yeah go on then, bored and depressed sittin wa...       ham\n",
       "2   ham  Can you plz tell me the ans. BSLVYL sent via f...       ham\n",
       "3   ham  Lol yes. Our friendship is hanging on a thread...       ham\n",
       "4   ham   cool. We will have fun practicing making babies!       ham"
      ]
     },
     "execution_count": 1774,
     "metadata": {},
     "output_type": "execute_result"
    }
   ],
   "source": [
    "test_set['predicted'] = test_set['SMS'].apply(classify_test_set)\n",
    "test_set.head()"
   ]
  },
  {
   "cell_type": "markdown",
   "id": "aa5b1774",
   "metadata": {},
   "source": [
    "### Calculating Accuracy"
   ]
  },
  {
   "cell_type": "code",
   "execution_count": 1775,
   "id": "f9315616",
   "metadata": {
    "scrolled": true
   },
   "outputs": [
    {
     "name": "stdout",
     "output_type": "stream",
     "text": [
      "Correct: 5170\n",
      "Incorrect: 235\n",
      "Accuracy: 0.9565217391304348\n"
     ]
    }
   ],
   "source": [
    "correct = 0\n",
    "total = test_set.shape[0]\n",
    "\n",
    "for row in test_set.iterrows():\n",
    "    row = row[1]\n",
    "    if row['Label'] == row['predicted']:\n",
    "        correct += 1\n",
    "\n",
    "print('Correct:', correct)\n",
    "print('Incorrect:', total - correct)\n",
    "print('Accuracy:', correct/total)"
   ]
  },
  {
   "cell_type": "markdown",
   "id": "17fa1022",
   "metadata": {},
   "source": [
    "Now we calculate the number of false positives and false negatives."
   ]
  },
  {
   "cell_type": "code",
   "execution_count": 1776,
   "id": "b53d9967",
   "metadata": {},
   "outputs": [
    {
     "name": "stdout",
     "output_type": "stream",
     "text": [
      "False positives: (when a true ham is falsly flagged as spam) 27\n",
      "False negatives: (when a true Spam is falsly allowed as ham) 207\n"
     ]
    }
   ],
   "source": [
    "f_pos = 0\n",
    "f_neg = 0\n",
    "\n",
    "for row in test_set.iterrows():\n",
    "    row = row[1]\n",
    "    if row['Label'] == \"ham\" and row['predicted'] == \"spam\":\n",
    "        f_pos += 1\n",
    "    if row['Label'] == \"spam\" and row['predicted'] == \"ham\":\n",
    "        f_neg += 1\n",
    "\n",
    "print('False positives: (when a true ham is falsly flagged as spam)', f_pos)  \n",
    "print('False negatives: (when a true Spam is falsly allowed as ham)', f_neg)"
   ]
  },
  {
   "cell_type": "markdown",
   "id": "fc2681e0",
   "metadata": {},
   "source": [
    "# FGC-Classify\n",
    "Now we investigate the same classification when we run it through FGC-Classify algorithm. We try and reduce the false negatives by setting the utilities appropriately.\n",
    "\n",
    "![Image: Classification Game](./game.png)"
   ]
  },
  {
   "cell_type": "code",
   "execution_count": 1777,
   "id": "0da066e1",
   "metadata": {},
   "outputs": [],
   "source": [
    "# Make a copy of the original test set\n",
    "test_set2 = test_set_untouched.copy()"
   ]
  },
  {
   "cell_type": "code",
   "execution_count": 1778,
   "id": "7f956d06",
   "metadata": {},
   "outputs": [],
   "source": [
    "def fgc_classify_test_set(message, utility):\n",
    "     \n",
    "    # utilities are (HS, HH, SS, SH) tuple\n",
    "    \n",
    "    p_spam_given_message, p_ham_given_message = classify(message)\n",
    "    \n",
    "    p_h = p_ham_given_message #/ (p_spam_given_message + p_ham_given_message)\n",
    "    p_s = p_spam_given_message #/ (p_spam_given_message + p_ham_given_message)\n",
    "    \n",
    "    #print (p_h, p_s, p_h+p_s)\n",
    "    \n",
    "    payoff = utility[0] * p_s, utility[1] * p_h, utility[2] * p_s, utility[3] * p_h\n",
    "    \n",
    "    #print(payoff)\n",
    "    \n",
    "    if max(payoff) == payoff[0] or max(payoff) == payoff[2]:\n",
    "        return 'spam'\n",
    "    elif max(payoff) == payoff[1] or max(payoff) == payoff[3]:\n",
    "        return 'ham'\n",
    "    else:\n",
    "        return 'needs human classification'"
   ]
  },
  {
   "cell_type": "markdown",
   "id": "dcc13aee",
   "metadata": {},
   "source": [
    "## Testing the FGC-Classifier"
   ]
  },
  {
   "cell_type": "code",
   "execution_count": 1779,
   "id": "4aaef259",
   "metadata": {
    "scrolled": false
   },
   "outputs": [
    {
     "name": "stdout",
     "output_type": "stream",
     "text": [
      "ham\n"
     ]
    }
   ],
   "source": [
    "print(fgc_classify_test_set('WINNER!! This is the secret code to unlock the money: C3421.', (1,1,1,1)))"
   ]
  },
  {
   "cell_type": "markdown",
   "id": "b179d4a8",
   "metadata": {},
   "source": [
    "### New Test Set"
   ]
  },
  {
   "cell_type": "code",
   "execution_count": 1780,
   "id": "b964082d",
   "metadata": {},
   "outputs": [
    {
     "data": {
      "text/html": [
       "<div>\n",
       "<style scoped>\n",
       "    .dataframe tbody tr th:only-of-type {\n",
       "        vertical-align: middle;\n",
       "    }\n",
       "\n",
       "    .dataframe tbody tr th {\n",
       "        vertical-align: top;\n",
       "    }\n",
       "\n",
       "    .dataframe thead th {\n",
       "        text-align: right;\n",
       "    }\n",
       "</style>\n",
       "<table border=\"1\" class=\"dataframe\">\n",
       "  <thead>\n",
       "    <tr style=\"text-align: right;\">\n",
       "      <th></th>\n",
       "      <th>Label</th>\n",
       "      <th>SMS</th>\n",
       "      <th>predicted</th>\n",
       "    </tr>\n",
       "  </thead>\n",
       "  <tbody>\n",
       "    <tr>\n",
       "      <th>0</th>\n",
       "      <td>ham</td>\n",
       "      <td>My Parents, My Kidz, My Friends n My Colleague...</td>\n",
       "      <td>ham</td>\n",
       "    </tr>\n",
       "    <tr>\n",
       "      <th>1</th>\n",
       "      <td>ham</td>\n",
       "      <td>Yeah go on then, bored and depressed sittin wa...</td>\n",
       "      <td>ham</td>\n",
       "    </tr>\n",
       "    <tr>\n",
       "      <th>2</th>\n",
       "      <td>ham</td>\n",
       "      <td>Can you plz tell me the ans. BSLVYL sent via f...</td>\n",
       "      <td>ham</td>\n",
       "    </tr>\n",
       "    <tr>\n",
       "      <th>3</th>\n",
       "      <td>ham</td>\n",
       "      <td>Lol yes. Our friendship is hanging on a thread...</td>\n",
       "      <td>ham</td>\n",
       "    </tr>\n",
       "    <tr>\n",
       "      <th>4</th>\n",
       "      <td>ham</td>\n",
       "      <td>cool. We will have fun practicing making babies!</td>\n",
       "      <td>ham</td>\n",
       "    </tr>\n",
       "  </tbody>\n",
       "</table>\n",
       "</div>"
      ],
      "text/plain": [
       "  Label                                                SMS predicted\n",
       "0   ham  My Parents, My Kidz, My Friends n My Colleague...       ham\n",
       "1   ham  Yeah go on then, bored and depressed sittin wa...       ham\n",
       "2   ham  Can you plz tell me the ans. BSLVYL sent via f...       ham\n",
       "3   ham  Lol yes. Our friendship is hanging on a thread...       ham\n",
       "4   ham   cool. We will have fun practicing making babies!       ham"
      ]
     },
     "execution_count": 1780,
     "metadata": {},
     "output_type": "execute_result"
    }
   ],
   "source": [
    "test_util = (1,10,10,2)\n",
    "\n",
    "def fgc(msg):\n",
    "    return fgc_classify_test_set(msg, test_util)\n",
    "\n",
    "test_set2['predicted'] = test_set2['SMS'].apply(fgc)\n",
    "test_set2.head()"
   ]
  },
  {
   "cell_type": "code",
   "execution_count": 1781,
   "id": "a930bf1a",
   "metadata": {
    "scrolled": true
   },
   "outputs": [
    {
     "name": "stdout",
     "output_type": "stream",
     "text": [
      "Correct: 5170\n",
      "Incorrect: 235\n",
      "Accuracy: 0.9565217391304348\n",
      "False positives: (when a true ham is falsly flagged as spam) 27\n",
      "False negatives: (when a true Spam is falsly allowed as ham) 207\n"
     ]
    }
   ],
   "source": [
    "correct = 0\n",
    "total = test_set2.shape[0]\n",
    "\n",
    "for row in test_set2.iterrows():\n",
    "    row = row[1]\n",
    "    if row['Label'] == row['predicted']:\n",
    "        correct += 1\n",
    "\n",
    "print('Correct:', correct)\n",
    "print('Incorrect:', total - correct)\n",
    "print('Accuracy:', correct/total)\n",
    "\n",
    "f_pos = 0\n",
    "f_neg = 0\n",
    "\n",
    "for row in test_set2.iterrows():\n",
    "    row = row[1]\n",
    "    if row['Label'] == \"ham\" and row['predicted'] == \"spam\":\n",
    "        f_pos += 1\n",
    "    if row['Label'] == \"spam\" and row['predicted'] == \"ham\":\n",
    "        f_neg += 1\n",
    "\n",
    "print('False positives: (when a true ham is falsly flagged as spam)', f_pos)  \n",
    "print('False negatives: (when a true Spam is falsly allowed as ham)', f_neg)\n"
   ]
  },
  {
   "cell_type": "markdown",
   "id": "eea897a0",
   "metadata": {},
   "source": [
    "# Reducing False Positives"
   ]
  },
  {
   "cell_type": "code",
   "execution_count": 1782,
   "id": "afd04dfd",
   "metadata": {},
   "outputs": [],
   "source": [
    "def run_fgc_for_util(util):\n",
    "    # Make a copy of the original test set\n",
    "    test_set_u = test_set_untouched.copy()\n",
    "    \n",
    "    def fgc(msg):\n",
    "        return fgc_classify_test_set(msg, util)\n",
    "\n",
    "    test_set_u['predicted'] = test_set_u['SMS'].apply(fgc)\n",
    "    test_set_u.head()\n",
    "    \n",
    "    correct = 0\n",
    "    total = test_set_u.shape[0]\n",
    "    f_pos = 0\n",
    "    f_neg = 0\n",
    "\n",
    "    for row in test_set_u.iterrows():\n",
    "        row = row[1]\n",
    "        if row['Label'] == row['predicted']:\n",
    "            correct += 1\n",
    "        if row['Label'] == \"ham\" and row['predicted'] == \"spam\":\n",
    "            f_pos += 1\n",
    "        if row['Label'] == \"spam\" and row['predicted'] == \"ham\":\n",
    "            f_neg += 1\n",
    "\n",
    "    return correct, total - correct, correct/total, f_pos, f_neg\n",
    "    print('Correct:', correct)\n",
    "    print('Incorrect:', total - correct)\n",
    "    print('Accuracy:', correct/total)\n",
    "    print('False positives: (when a true ham is falsly flagged as spam)', f_pos)  \n",
    "    print('False negatives: (when a true Spam is falsly allowed as ham)', f_neg)\n",
    "    \n",
    "    "
   ]
  },
  {
   "cell_type": "markdown",
   "id": "34511ce1",
   "metadata": {},
   "source": [
    "## Reducing False positives by having more utility in S,H"
   ]
  },
  {
   "cell_type": "code",
   "execution_count": 1789,
   "id": "ad0121cf",
   "metadata": {},
   "outputs": [
    {
     "name": "stdout",
     "output_type": "stream",
     "text": [
      "(5170, 235, 0.9565217391304348, 27, 207)\n",
      "(5170, 235, 0.9565217391304348, 27, 207)\n",
      "(5170, 235, 0.9565217391304348, 27, 207)\n",
      "(5170, 235, 0.9565217391304348, 27, 207)\n",
      "(5162, 243, 0.9550416281221091, 25, 217)\n",
      "(5161, 244, 0.9548566142460685, 17, 226)\n",
      "(5159, 246, 0.9544865864939871, 16, 229)\n",
      "(5153, 252, 0.9533765032377428, 12, 239)\n",
      "(5143, 262, 0.9515263644773359, 4, 257)\n",
      "(5126, 279, 0.9483811285846439, 3, 275)\n",
      "(5087, 318, 0.9411655874190564, 3, 314)\n",
      "(5068, 337, 0.937650323774283, 2, 334)\n"
     ]
    }
   ],
   "source": [
    "print(\"Correct, Incorrect, Accuracy, F_Pos, F_Neg\")\n",
    "print(run_fgc_for_util((1,10,10,1)))\n",
    "print(run_fgc_for_util((1,10,10,3)))\n",
    "print(run_fgc_for_util((1,10,10,7)))\n",
    "print(run_fgc_for_util((1,10,10,10)))\n",
    "print(run_fgc_for_util((1,10,10,12)))\n",
    "print(run_fgc_for_util((1,10,10,15)))\n",
    "print(run_fgc_for_util((1,10,10,17)))\n",
    "print(run_fgc_for_util((1,10,10,20)))\n",
    "print(run_fgc_for_util((1,10,10,30)))\n",
    "print(run_fgc_for_util((1,10,10,50)))\n",
    "print(run_fgc_for_util((1,10,10,100)))\n",
    "print(run_fgc_for_util((1,10,10,200)))"
   ]
  },
  {
   "cell_type": "markdown",
   "id": "5ec3b450",
   "metadata": {},
   "source": [
    "### Reducing false negatives by reducing H,H vs S,H"
   ]
  },
  {
   "cell_type": "code",
   "execution_count": 1792,
   "id": "16f037b7",
   "metadata": {},
   "outputs": [
    {
     "name": "stdout",
     "output_type": "stream",
     "text": [
      "Correct, Incorrect, Accuracy, F_Pos, F_Neg\n",
      "(5058, 347, 0.9358001850138761, 217, 129)\n",
      "(5058, 347, 0.9358001850138761, 217, 129)\n",
      "(4995, 410, 0.9241443108233117, 288, 121)\n"
     ]
    }
   ],
   "source": [
    "print(\"Correct, Incorrect, Accuracy, F_Pos, F_Neg\")\n",
    "print(run_fgc_for_util((1,10,100,1)))\n",
    "print(run_fgc_for_util((1,10,100,3)))\n",
    "print(run_fgc_for_util((1,10,1000,70)))\n"
   ]
  }
 ],
 "metadata": {
  "kernelspec": {
   "display_name": "Python 3",
   "language": "python",
   "name": "python3"
  },
  "language_info": {
   "codemirror_mode": {
    "name": "ipython",
    "version": 3
   },
   "file_extension": ".py",
   "mimetype": "text/x-python",
   "name": "python",
   "nbconvert_exporter": "python",
   "pygments_lexer": "ipython3",
   "version": "3.8.10"
  }
 },
 "nbformat": 4,
 "nbformat_minor": 5
}
